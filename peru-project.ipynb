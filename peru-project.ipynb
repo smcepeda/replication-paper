{
 "cells": [
  {
   "cell_type": "markdown",
   "metadata": {
    "id": "Z1zMBgaz0ueO"
   },
   "source": [
    "# **Peru Project**- Replication Project\n",
    "\n",
    "---\n",
    "\n",
    "We are a group of 5 people. Group participants: \n",
    "1. Syed Shahvaiz Ahmed 18-756-635\n",
    "2. Georgios Anagnostou 20-741-260\n",
    "3. Vasiliki Arpatzoglou 18-747-980\n",
    "4. Santiago Cepeda 12-741-385\n",
    "5. Alex Wolf 12-526-216\n"
   ]
  },
  {
   "cell_type": "markdown",
   "metadata": {
    "id": "V9EB-BScqvfN"
   },
   "source": [
    "## Introduction\n",
    "This project tries to replicate the paper from R. Hanna and B. A. Olken: \"Universal basic incomes versus targeted transfers: Anti-poverty programs in developing countries.\"\n",
    "\n",
    "The replication process was conducted in the same manner as in the paper. Thus, splitting the data according to the \"training\" attribute on the dataset. We also used imputation to fill missing values in the dataset.\n",
    "\n",
    "We then used different models to predict whether or not a household should receive benefits. Last but not least, we replicated Figure 5 with our CRRA-utility function.\n"
   ]
  },
  {
   "cell_type": "markdown",
   "metadata": {
    "id": "TCYx4awq1gx4"
   },
   "source": [
    "## Uploading Relevant Libraries\n",
    "In this cell we upload the relevant libraries needed for the below cells.\n",
    "\n",
    "\n"
   ]
  },
  {
   "cell_type": "code",
   "execution_count": null,
   "metadata": {
    "colab": {
     "base_uri": "https://localhost:8080/",
     "height": 51
    },
    "id": "O9k6kpHl0WOK",
    "outputId": "476d757e-7f9f-4db1-9484-9279dfed8c32"
   },
   "outputs": [
    {
     "name": "stdout",
     "output_type": "stream",
     "text": [
      "The autoreload extension is already loaded. To reload it, use:\n",
      "  %reload_ext autoreload\n"
     ]
    },
    {
     "data": {
      "text/html": [
       "        <script type=\"text/javascript\">\n",
       "        window.PlotlyConfig = {MathJaxConfig: 'local'};\n",
       "        if (window.MathJax) {MathJax.Hub.Config({SVG: {font: \"STIX-Web\"}});}\n",
       "        if (typeof require !== 'undefined') {\n",
       "        require.undef(\"plotly\");\n",
       "        requirejs.config({\n",
       "            paths: {\n",
       "                'plotly': ['https://cdn.plot.ly/plotly-latest.min']\n",
       "            }\n",
       "        });\n",
       "        require(['plotly'], function(Plotly) {\n",
       "            window._Plotly = Plotly;\n",
       "        });\n",
       "        }\n",
       "        </script>\n",
       "        "
      ]
     },
     "metadata": {
      "tags": []
     },
     "output_type": "display_data"
    }
   ],
   "source": [
    "%matplotlib inline\n",
    "%reload_ext autoreload\n",
    "%load_ext autoreload\n",
    "%autoreload 2\n",
    "\n",
    "# General math, csv and plotting modules.\n",
    "import pandas as pd\n",
    "import csv\n",
    "import numpy as np\n",
    "import matplotlib.pyplot as plt\n",
    "\n",
    "# Widget and formatting modules\n",
    "import ipywidgets\n",
    "from ipywidgets import interact, interactive, interact_manual\n",
    "import pylab\n",
    "import seaborn as sns\n",
    "pylab.rcParams['figure.figsize'] = (10, 5)\n",
    "\n",
    "# Visualization Libraries\n",
    "import io\n",
    "import plotly.offline as py\n",
    "py.init_notebook_mode(connected=True)\n",
    "import plotly.graph_objs as go\n",
    "import plotly.tools as tls\n",
    "import plotly.figure_factory as ff\n",
    "from mpl_toolkits.mplot3d import Axes3D\n",
    "from plotly.subplots import make_subplots\n",
    "from matplotlib.pyplot import figure\n",
    "\n",
    "# Loading the required libraries \n",
    "from fancyimpute import IterativeImputer as MICE\n",
    "import sklearn\n",
    "from sklearn import linear_model\n",
    "from sklearn.preprocessing import LabelEncoder\n",
    "from sklearn.model_selection import train_test_split\n",
    "from sklearn.preprocessing import scale, PolynomialFeatures\n",
    "from sklearn.metrics import mean_squared_error, r2_score\n",
    "from sklearn import preprocessing\n",
    "from sklearn.preprocessing import StandardScaler\n",
    "from sklearn.linear_model import LogisticRegression\n",
    "from sklearn.linear_model import LogisticRegressionCV\n",
    "from sklearn.model_selection import StratifiedKFold\n",
    "from sklearn.feature_selection import SelectKBest\n",
    "from sklearn.feature_selection import chi2\n",
    "from sklearn.model_selection import cross_val_score\n",
    "from sklearn.ensemble import ExtraTreesClassifier\n",
    "from sklearn.decomposition import PCA\n",
    "from sklearn.metrics import classification_report, confusion_matrix \n",
    "from sklearn.metrics import recall_score\n",
    "from sklearn.metrics import precision_score\n",
    "from sklearn.metrics import accuracy_score\n",
    "from sklearn.model_selection import GridSearchCV\n",
    "from sklearn.metrics import roc_auc_score\n",
    "from sklearn.metrics import roc_curve\n",
    "from sklearn.svm import SVC\n",
    "from sklearn.metrics import f1_score\n",
    "from sklearn.metrics import precision_recall_curve\n",
    "from sklearn.metrics import average_precision_score\n",
    "from sklearn.preprocessing import MinMaxScaler\n",
    "from sklearn.metrics import cohen_kappa_score\n",
    "from imblearn.over_sampling import SMOTE\n",
    "from imblearn.combine import SMOTETomek\n",
    "from yellowbrick.classifier import DiscriminationThreshold\n",
    "from sklearn.ensemble import RandomForestClassifier\n",
    "from sklearn.neighbors import KNeighborsClassifier\n",
    "from sklearn.tree import DecisionTreeClassifier\n",
    "from sklearn.metrics import accuracy_score\n",
    "from keras.models import Sequential\n",
    "from keras.layers import Dense\n",
    "from sklearn.linear_model import ElasticNet, Lasso,  BayesianRidge, LassoLarsIC\n",
    "from sklearn.ensemble import RandomForestRegressor,  GradientBoostingRegressor\n",
    "from sklearn.kernel_ridge import KernelRidge\n",
    "from sklearn.pipeline import make_pipeline\n",
    "from sklearn.preprocessing import RobustScaler\n",
    "from sklearn.base import BaseEstimator, TransformerMixin, RegressorMixin, clone\n",
    "from sklearn.model_selection import KFold, cross_val_score, train_test_split\n",
    "from sklearn.metrics import mean_squared_error\n",
    "import time\n",
    "from sklearn.gaussian_process import GaussianProcessRegressor\n",
    "from sklearn.gaussian_process.kernels import WhiteKernel, ExpSineSquared\n",
    "import xgboost as xgb\n",
    "import lightgbm as lgb\n",
    "\n",
    "# Avoiding warnings\n",
    "import warnings\n",
    "warnings.filterwarnings('ignore')\n",
    "\n",
    "from scipy import stats\n",
    "from scipy.stats import norm, skew #for some statistics\n",
    "pd.set_option('display.float_format', lambda x: '{:.3f}'.format(x)) #Limiting floats output to 3 decimal points"
   ]
  },
  {
   "cell_type": "markdown",
   "metadata": {
    "id": "ZtDfhTYx55Az"
   },
   "source": [
    "## Setting Path\n",
    "Setting the path for the data file and reading the csv as pandas Data Frame"
   ]
  },
  {
   "cell_type": "code",
   "execution_count": null,
   "metadata": {
    "colab": {
     "base_uri": "https://localhost:8080/"
    },
    "id": "FdtnZs6J4ctK",
    "outputId": "018158c3-c566-43fa-ce7b-57334aad70d5"
   },
   "outputs": [
    {
     "name": "stdout",
     "output_type": "stream",
     "text": [
      "Drive already mounted at /content/drive; to attempt to forcibly remount, call drive.mount(\"/content/drive\", force_remount=True).\n"
     ]
    }
   ],
   "source": [
    "from google.colab import drive\n",
    "drive.mount('/content/drive')"
   ]
  },
  {
   "cell_type": "code",
   "execution_count": null,
   "metadata": {
    "id": "kzfKBAFxzkZx"
   },
   "outputs": [],
   "source": [
    "df = pd.read_csv('/content/drive/MyDrive/peru_matlab_export_full.csv')"
   ]
  },
  {
   "cell_type": "code",
   "execution_count": null,
   "metadata": {
    "colab": {
     "base_uri": "https://localhost:8080/"
    },
    "id": "7rwoSj3T1kMd",
    "outputId": "d1c83cd4-e472-44e3-ba6d-52319a208c89"
   },
   "outputs": [
    {
     "data": {
      "text/plain": [
       "(46305, 81)"
      ]
     },
     "execution_count": 171,
     "metadata": {
      "tags": []
     },
     "output_type": "execute_result"
    }
   ],
   "source": [
    "df.shape"
   ]
  },
  {
   "cell_type": "markdown",
   "metadata": {
    "id": "UvSf3Q6M1mLc"
   },
   "source": [
    "The dataframe has **46305** rows and **81** columns. We have **73** variables (look at the appendix https://www.aeaweb.org/content/file?id=8344). The other 8 variables are related to previous matlab encodings and OLS estimators, which we do not need in this step. \n",
    "\n",
    "We want to **regress monthly household per-capita consumption** on the 72 actual indicator variables used in each country’s respective proxy-means test formula."
   ]
  },
  {
   "cell_type": "code",
   "execution_count": null,
   "metadata": {
    "colab": {
     "base_uri": "https://localhost:8080/",
     "height": 253
    },
    "id": "ueYWIob33dmN",
    "outputId": "92c1df4f-0829-4101-b0c1-fc78fbd110e9"
   },
   "outputs": [
    {
     "data": {
      "text/html": [
       "<div>\n",
       "<style scoped>\n",
       "    .dataframe tbody tr th:only-of-type {\n",
       "        vertical-align: middle;\n",
       "    }\n",
       "\n",
       "    .dataframe tbody tr th {\n",
       "        vertical-align: top;\n",
       "    }\n",
       "\n",
       "    .dataframe thead th {\n",
       "        text-align: right;\n",
       "    }\n",
       "</style>\n",
       "<table border=\"1\" class=\"dataframe\">\n",
       "  <thead>\n",
       "    <tr style=\"text-align: right;\">\n",
       "      <th></th>\n",
       "      <th>lnpercapitaconsumption</th>\n",
       "      <th>d_fuel_other</th>\n",
       "      <th>d_fuel_wood</th>\n",
       "      <th>d_fuel_coal</th>\n",
       "      <th>d_fuel_kerosene</th>\n",
       "      <th>d_fuel_gas</th>\n",
       "      <th>d_fuel_electric</th>\n",
       "      <th>d_fuel_none</th>\n",
       "      <th>d_water_other</th>\n",
       "      <th>d_water_river</th>\n",
       "      <th>d_water_well</th>\n",
       "      <th>d_water_truck</th>\n",
       "      <th>d_water_pylon</th>\n",
       "      <th>d_water_outside</th>\n",
       "      <th>d_water_inside</th>\n",
       "      <th>d_drain_none</th>\n",
       "      <th>d_drain_river</th>\n",
       "      <th>d_drain_cesspool</th>\n",
       "      <th>d_drain_septic</th>\n",
       "      <th>d_drain_outside</th>\n",
       "      <th>d_drain_inside</th>\n",
       "      <th>d_wall_other</th>\n",
       "      <th>d_wall_woodmat</th>\n",
       "      <th>d_wall_stonemud</th>\n",
       "      <th>d_wall_quincha</th>\n",
       "      <th>d_wall_tapia</th>\n",
       "      <th>d_wall_adobe</th>\n",
       "      <th>d_wall_stonecement</th>\n",
       "      <th>d_wall_brickcement</th>\n",
       "      <th>d_roof_other</th>\n",
       "      <th>d_roof_straw</th>\n",
       "      <th>d_roof_mat</th>\n",
       "      <th>d_roof_platecane</th>\n",
       "      <th>d_roof_tile</th>\n",
       "      <th>d_roof_wood</th>\n",
       "      <th>d_roof_concrete</th>\n",
       "      <th>d_floor_other</th>\n",
       "      <th>d_floor_earth</th>\n",
       "      <th>d_floor_cement</th>\n",
       "      <th>d_floor_wood</th>\n",
       "      <th>...</th>\n",
       "      <th>d_floor_sheets</th>\n",
       "      <th>d_floor_parquet</th>\n",
       "      <th>d_electricity</th>\n",
       "      <th>d_telephone</th>\n",
       "      <th>d_h_educ_none</th>\n",
       "      <th>d_h_educ_pre</th>\n",
       "      <th>d_h_educ_prim</th>\n",
       "      <th>d_h_educ_sec</th>\n",
       "      <th>d_h_educ_higher_nouni</th>\n",
       "      <th>d_h_educ_higher_uni</th>\n",
       "      <th>d_h_educ_post</th>\n",
       "      <th>d_max_educ_none</th>\n",
       "      <th>d_max_educ_prim</th>\n",
       "      <th>d_max_educ_sec</th>\n",
       "      <th>d_max_educ_higher_nouni</th>\n",
       "      <th>d_max_educ_higher_uni</th>\n",
       "      <th>d_insurance_0</th>\n",
       "      <th>d_insurance_1</th>\n",
       "      <th>d_insurance_2</th>\n",
       "      <th>d_insurance_3</th>\n",
       "      <th>d_insurance_4plus</th>\n",
       "      <th>d_crowd_lessthan1</th>\n",
       "      <th>d_crowd_1to2</th>\n",
       "      <th>d_crowd_2to4</th>\n",
       "      <th>d_crowd_4to6</th>\n",
       "      <th>d_crowd_6plus</th>\n",
       "      <th>d_lux_0</th>\n",
       "      <th>d_lux_1</th>\n",
       "      <th>d_lux_2</th>\n",
       "      <th>d_lux_3</th>\n",
       "      <th>d_lux_4</th>\n",
       "      <th>d_lux_5</th>\n",
       "      <th>training</th>\n",
       "      <th>percapitaconsumption</th>\n",
       "      <th>poor</th>\n",
       "      <th>h_hhsize</th>\n",
       "      <th>id_for_matlab</th>\n",
       "      <th>hhid</th>\n",
       "      <th>lncaphat_OLS</th>\n",
       "      <th>percapitahat_OLS</th>\n",
       "    </tr>\n",
       "  </thead>\n",
       "  <tbody>\n",
       "    <tr>\n",
       "      <th>0</th>\n",
       "      <td>5.352</td>\n",
       "      <td>0</td>\n",
       "      <td>1</td>\n",
       "      <td>0</td>\n",
       "      <td>0</td>\n",
       "      <td>0</td>\n",
       "      <td>0</td>\n",
       "      <td>0</td>\n",
       "      <td>0</td>\n",
       "      <td>1</td>\n",
       "      <td>0</td>\n",
       "      <td>0</td>\n",
       "      <td>0</td>\n",
       "      <td>0</td>\n",
       "      <td>0</td>\n",
       "      <td>1</td>\n",
       "      <td>0</td>\n",
       "      <td>0</td>\n",
       "      <td>0</td>\n",
       "      <td>0</td>\n",
       "      <td>0</td>\n",
       "      <td>1.000</td>\n",
       "      <td>0.000</td>\n",
       "      <td>0.000</td>\n",
       "      <td>0.000</td>\n",
       "      <td>0.000</td>\n",
       "      <td>0.000</td>\n",
       "      <td>0.000</td>\n",
       "      <td>0.000</td>\n",
       "      <td>0.000</td>\n",
       "      <td>1.000</td>\n",
       "      <td>0.000</td>\n",
       "      <td>0.000</td>\n",
       "      <td>0.000</td>\n",
       "      <td>0.000</td>\n",
       "      <td>0.000</td>\n",
       "      <td>1.000</td>\n",
       "      <td>0.000</td>\n",
       "      <td>0.000</td>\n",
       "      <td>0.000</td>\n",
       "      <td>...</td>\n",
       "      <td>0.000</td>\n",
       "      <td>0.000</td>\n",
       "      <td>0</td>\n",
       "      <td>0</td>\n",
       "      <td>1.000</td>\n",
       "      <td>0.000</td>\n",
       "      <td>0.000</td>\n",
       "      <td>0.000</td>\n",
       "      <td>0.000</td>\n",
       "      <td>0.000</td>\n",
       "      <td>0.000</td>\n",
       "      <td>1</td>\n",
       "      <td>0</td>\n",
       "      <td>0</td>\n",
       "      <td>0</td>\n",
       "      <td>0</td>\n",
       "      <td>1</td>\n",
       "      <td>0</td>\n",
       "      <td>0</td>\n",
       "      <td>0</td>\n",
       "      <td>0</td>\n",
       "      <td>1.000</td>\n",
       "      <td>0.000</td>\n",
       "      <td>0.000</td>\n",
       "      <td>0.000</td>\n",
       "      <td>0.000</td>\n",
       "      <td>1</td>\n",
       "      <td>0</td>\n",
       "      <td>0</td>\n",
       "      <td>0</td>\n",
       "      <td>0</td>\n",
       "      <td>0</td>\n",
       "      <td>0</td>\n",
       "      <td>211.000</td>\n",
       "      <td>0</td>\n",
       "      <td>1</td>\n",
       "      <td>1</td>\n",
       "      <td>233710511</td>\n",
       "      <td>5.246</td>\n",
       "      <td>284.424</td>\n",
       "    </tr>\n",
       "    <tr>\n",
       "      <th>1</th>\n",
       "      <td>5.769</td>\n",
       "      <td>0</td>\n",
       "      <td>0</td>\n",
       "      <td>0</td>\n",
       "      <td>0</td>\n",
       "      <td>1</td>\n",
       "      <td>0</td>\n",
       "      <td>0</td>\n",
       "      <td>0</td>\n",
       "      <td>0</td>\n",
       "      <td>0</td>\n",
       "      <td>0</td>\n",
       "      <td>0</td>\n",
       "      <td>0</td>\n",
       "      <td>1</td>\n",
       "      <td>0</td>\n",
       "      <td>0</td>\n",
       "      <td>1</td>\n",
       "      <td>0</td>\n",
       "      <td>0</td>\n",
       "      <td>0</td>\n",
       "      <td>0.000</td>\n",
       "      <td>0.000</td>\n",
       "      <td>0.000</td>\n",
       "      <td>1.000</td>\n",
       "      <td>0.000</td>\n",
       "      <td>0.000</td>\n",
       "      <td>0.000</td>\n",
       "      <td>0.000</td>\n",
       "      <td>0.000</td>\n",
       "      <td>0.000</td>\n",
       "      <td>0.000</td>\n",
       "      <td>1.000</td>\n",
       "      <td>0.000</td>\n",
       "      <td>0.000</td>\n",
       "      <td>0.000</td>\n",
       "      <td>0.000</td>\n",
       "      <td>1.000</td>\n",
       "      <td>0.000</td>\n",
       "      <td>0.000</td>\n",
       "      <td>...</td>\n",
       "      <td>0.000</td>\n",
       "      <td>0.000</td>\n",
       "      <td>1</td>\n",
       "      <td>0</td>\n",
       "      <td>0.000</td>\n",
       "      <td>0.000</td>\n",
       "      <td>0.000</td>\n",
       "      <td>1.000</td>\n",
       "      <td>0.000</td>\n",
       "      <td>0.000</td>\n",
       "      <td>0.000</td>\n",
       "      <td>0</td>\n",
       "      <td>0</td>\n",
       "      <td>1</td>\n",
       "      <td>0</td>\n",
       "      <td>0</td>\n",
       "      <td>0</td>\n",
       "      <td>0</td>\n",
       "      <td>0</td>\n",
       "      <td>1</td>\n",
       "      <td>0</td>\n",
       "      <td>0.000</td>\n",
       "      <td>1.000</td>\n",
       "      <td>0.000</td>\n",
       "      <td>0.000</td>\n",
       "      <td>0.000</td>\n",
       "      <td>0</td>\n",
       "      <td>0</td>\n",
       "      <td>0</td>\n",
       "      <td>1</td>\n",
       "      <td>0</td>\n",
       "      <td>0</td>\n",
       "      <td>0</td>\n",
       "      <td>320.139</td>\n",
       "      <td>0</td>\n",
       "      <td>3</td>\n",
       "      <td>2</td>\n",
       "      <td>295508011</td>\n",
       "      <td>6.129</td>\n",
       "      <td>522.884</td>\n",
       "    </tr>\n",
       "    <tr>\n",
       "      <th>2</th>\n",
       "      <td>5.968</td>\n",
       "      <td>0</td>\n",
       "      <td>0</td>\n",
       "      <td>0</td>\n",
       "      <td>0</td>\n",
       "      <td>1</td>\n",
       "      <td>0</td>\n",
       "      <td>0</td>\n",
       "      <td>0</td>\n",
       "      <td>0</td>\n",
       "      <td>0</td>\n",
       "      <td>0</td>\n",
       "      <td>0</td>\n",
       "      <td>0</td>\n",
       "      <td>1</td>\n",
       "      <td>0</td>\n",
       "      <td>0</td>\n",
       "      <td>0</td>\n",
       "      <td>0</td>\n",
       "      <td>0</td>\n",
       "      <td>1</td>\n",
       "      <td>0.000</td>\n",
       "      <td>0.000</td>\n",
       "      <td>0.000</td>\n",
       "      <td>0.000</td>\n",
       "      <td>0.000</td>\n",
       "      <td>0.000</td>\n",
       "      <td>0.000</td>\n",
       "      <td>1.000</td>\n",
       "      <td>0.000</td>\n",
       "      <td>0.000</td>\n",
       "      <td>0.000</td>\n",
       "      <td>1.000</td>\n",
       "      <td>0.000</td>\n",
       "      <td>0.000</td>\n",
       "      <td>0.000</td>\n",
       "      <td>0.000</td>\n",
       "      <td>0.000</td>\n",
       "      <td>1.000</td>\n",
       "      <td>0.000</td>\n",
       "      <td>...</td>\n",
       "      <td>0.000</td>\n",
       "      <td>0.000</td>\n",
       "      <td>1</td>\n",
       "      <td>1</td>\n",
       "      <td>0.000</td>\n",
       "      <td>0.000</td>\n",
       "      <td>0.000</td>\n",
       "      <td>0.000</td>\n",
       "      <td>0.000</td>\n",
       "      <td>1.000</td>\n",
       "      <td>0.000</td>\n",
       "      <td>0</td>\n",
       "      <td>0</td>\n",
       "      <td>0</td>\n",
       "      <td>0</td>\n",
       "      <td>1</td>\n",
       "      <td>0</td>\n",
       "      <td>0</td>\n",
       "      <td>0</td>\n",
       "      <td>0</td>\n",
       "      <td>1</td>\n",
       "      <td>1.000</td>\n",
       "      <td>0.000</td>\n",
       "      <td>0.000</td>\n",
       "      <td>0.000</td>\n",
       "      <td>0.000</td>\n",
       "      <td>0</td>\n",
       "      <td>0</td>\n",
       "      <td>0</td>\n",
       "      <td>1</td>\n",
       "      <td>0</td>\n",
       "      <td>0</td>\n",
       "      <td>0</td>\n",
       "      <td>390.832</td>\n",
       "      <td>0</td>\n",
       "      <td>4</td>\n",
       "      <td>3</td>\n",
       "      <td>257600211</td>\n",
       "      <td>6.666</td>\n",
       "      <td>878.496</td>\n",
       "    </tr>\n",
       "    <tr>\n",
       "      <th>3</th>\n",
       "      <td>5.655</td>\n",
       "      <td>0</td>\n",
       "      <td>0</td>\n",
       "      <td>0</td>\n",
       "      <td>0</td>\n",
       "      <td>1</td>\n",
       "      <td>0</td>\n",
       "      <td>0</td>\n",
       "      <td>0</td>\n",
       "      <td>0</td>\n",
       "      <td>0</td>\n",
       "      <td>0</td>\n",
       "      <td>0</td>\n",
       "      <td>0</td>\n",
       "      <td>1</td>\n",
       "      <td>0</td>\n",
       "      <td>0</td>\n",
       "      <td>0</td>\n",
       "      <td>0</td>\n",
       "      <td>0</td>\n",
       "      <td>1</td>\n",
       "      <td>0.000</td>\n",
       "      <td>0.000</td>\n",
       "      <td>0.000</td>\n",
       "      <td>0.000</td>\n",
       "      <td>0.000</td>\n",
       "      <td>0.000</td>\n",
       "      <td>0.000</td>\n",
       "      <td>1.000</td>\n",
       "      <td>0.000</td>\n",
       "      <td>0.000</td>\n",
       "      <td>0.000</td>\n",
       "      <td>0.000</td>\n",
       "      <td>0.000</td>\n",
       "      <td>0.000</td>\n",
       "      <td>1.000</td>\n",
       "      <td>0.000</td>\n",
       "      <td>0.000</td>\n",
       "      <td>0.000</td>\n",
       "      <td>0.000</td>\n",
       "      <td>...</td>\n",
       "      <td>0.000</td>\n",
       "      <td>0.000</td>\n",
       "      <td>1</td>\n",
       "      <td>1</td>\n",
       "      <td>0.000</td>\n",
       "      <td>0.000</td>\n",
       "      <td>0.000</td>\n",
       "      <td>1.000</td>\n",
       "      <td>0.000</td>\n",
       "      <td>0.000</td>\n",
       "      <td>0.000</td>\n",
       "      <td>0</td>\n",
       "      <td>0</td>\n",
       "      <td>1</td>\n",
       "      <td>0</td>\n",
       "      <td>0</td>\n",
       "      <td>1</td>\n",
       "      <td>0</td>\n",
       "      <td>0</td>\n",
       "      <td>0</td>\n",
       "      <td>0</td>\n",
       "      <td>0.000</td>\n",
       "      <td>0.000</td>\n",
       "      <td>1.000</td>\n",
       "      <td>0.000</td>\n",
       "      <td>0.000</td>\n",
       "      <td>1</td>\n",
       "      <td>0</td>\n",
       "      <td>0</td>\n",
       "      <td>0</td>\n",
       "      <td>0</td>\n",
       "      <td>0</td>\n",
       "      <td>0</td>\n",
       "      <td>285.602</td>\n",
       "      <td>1</td>\n",
       "      <td>9</td>\n",
       "      <td>4</td>\n",
       "      <td>198104311</td>\n",
       "      <td>6.088</td>\n",
       "      <td>567.471</td>\n",
       "    </tr>\n",
       "    <tr>\n",
       "      <th>4</th>\n",
       "      <td>4.771</td>\n",
       "      <td>0</td>\n",
       "      <td>1</td>\n",
       "      <td>0</td>\n",
       "      <td>0</td>\n",
       "      <td>0</td>\n",
       "      <td>0</td>\n",
       "      <td>0</td>\n",
       "      <td>0</td>\n",
       "      <td>1</td>\n",
       "      <td>0</td>\n",
       "      <td>0</td>\n",
       "      <td>0</td>\n",
       "      <td>0</td>\n",
       "      <td>0</td>\n",
       "      <td>0</td>\n",
       "      <td>0</td>\n",
       "      <td>1</td>\n",
       "      <td>0</td>\n",
       "      <td>0</td>\n",
       "      <td>0</td>\n",
       "      <td>0.000</td>\n",
       "      <td>0.000</td>\n",
       "      <td>0.000</td>\n",
       "      <td>0.000</td>\n",
       "      <td>0.000</td>\n",
       "      <td>1.000</td>\n",
       "      <td>0.000</td>\n",
       "      <td>0.000</td>\n",
       "      <td>0.000</td>\n",
       "      <td>0.000</td>\n",
       "      <td>0.000</td>\n",
       "      <td>0.000</td>\n",
       "      <td>1.000</td>\n",
       "      <td>0.000</td>\n",
       "      <td>0.000</td>\n",
       "      <td>0.000</td>\n",
       "      <td>1.000</td>\n",
       "      <td>0.000</td>\n",
       "      <td>0.000</td>\n",
       "      <td>...</td>\n",
       "      <td>0.000</td>\n",
       "      <td>0.000</td>\n",
       "      <td>0</td>\n",
       "      <td>0</td>\n",
       "      <td>0.000</td>\n",
       "      <td>0.000</td>\n",
       "      <td>1.000</td>\n",
       "      <td>0.000</td>\n",
       "      <td>0.000</td>\n",
       "      <td>0.000</td>\n",
       "      <td>0.000</td>\n",
       "      <td>0</td>\n",
       "      <td>0</td>\n",
       "      <td>1</td>\n",
       "      <td>0</td>\n",
       "      <td>0</td>\n",
       "      <td>0</td>\n",
       "      <td>0</td>\n",
       "      <td>0</td>\n",
       "      <td>0</td>\n",
       "      <td>1</td>\n",
       "      <td>0.000</td>\n",
       "      <td>1.000</td>\n",
       "      <td>0.000</td>\n",
       "      <td>0.000</td>\n",
       "      <td>0.000</td>\n",
       "      <td>1</td>\n",
       "      <td>0</td>\n",
       "      <td>0</td>\n",
       "      <td>0</td>\n",
       "      <td>0</td>\n",
       "      <td>0</td>\n",
       "      <td>0</td>\n",
       "      <td>118.071</td>\n",
       "      <td>1</td>\n",
       "      <td>8</td>\n",
       "      <td>5</td>\n",
       "      <td>24805311</td>\n",
       "      <td>5.008</td>\n",
       "      <td>115.493</td>\n",
       "    </tr>\n",
       "  </tbody>\n",
       "</table>\n",
       "<p>5 rows × 81 columns</p>\n",
       "</div>"
      ],
      "text/plain": [
       "   lnpercapitaconsumption  d_fuel_other  ...  lncaphat_OLS  percapitahat_OLS\n",
       "0                   5.352             0  ...         5.246           284.424\n",
       "1                   5.769             0  ...         6.129           522.884\n",
       "2                   5.968             0  ...         6.666           878.496\n",
       "3                   5.655             0  ...         6.088           567.471\n",
       "4                   4.771             0  ...         5.008           115.493\n",
       "\n",
       "[5 rows x 81 columns]"
      ]
     },
     "execution_count": 172,
     "metadata": {
      "tags": []
     },
     "output_type": "execute_result"
    }
   ],
   "source": [
    "df.head(5)"
   ]
  },
  {
   "cell_type": "markdown",
   "metadata": {
    "id": "jFR2tRF1ScZ1"
   },
   "source": [
    "## Train Test Split\n",
    "\n",
    "We split to train and test data according to the training column. We divide the testing and training data exactly as was mentioned on project description. If training number is 1 we keep it in the training set and if the training number is 0 we keep it in the test set. \n",
    "\n",
    "We directly keep as response variable the *log-transformed* capital consumption. "
   ]
  },
  {
   "cell_type": "code",
   "execution_count": null,
   "metadata": {
    "id": "s9m4b2ScL2jY"
   },
   "outputs": [],
   "source": [
    "train_data = df.loc[lambda df: df['training'] > 0, :]\n",
    "train_data = train_data.iloc[:,:73]\n"
   ]
  },
  {
   "cell_type": "code",
   "execution_count": null,
   "metadata": {
    "colab": {
     "base_uri": "https://localhost:8080/"
    },
    "id": "FzrDkB6aNmNr",
    "outputId": "6fbd164f-9c9a-4328-b706-808949fbee91"
   },
   "outputs": [
    {
     "data": {
      "text/plain": [
       "(23153, 72)"
      ]
     },
     "execution_count": 174,
     "metadata": {
      "tags": []
     },
     "output_type": "execute_result"
    }
   ],
   "source": [
    "X_train = train_data.iloc[:,1:]\n",
    "y_train = train_data.iloc[:,0]\n",
    "X_train.shape"
   ]
  },
  {
   "cell_type": "code",
   "execution_count": null,
   "metadata": {
    "id": "BhrwcjzWJCnY"
   },
   "outputs": [],
   "source": [
    "test_data = df.loc[lambda df: df['training'] == 0, :]\n",
    "comparative_metric = test_data['lncaphat_OLS'] # The actual y's in the test_data I believe.\n",
    "test_data = test_data.iloc[:,:73]"
   ]
  },
  {
   "cell_type": "code",
   "execution_count": null,
   "metadata": {
    "colab": {
     "base_uri": "https://localhost:8080/"
    },
    "id": "gk9rLDsTJX2v",
    "outputId": "f2ce45e5-c6fb-4e25-fff6-0c4e2a1cff6e"
   },
   "outputs": [
    {
     "data": {
      "text/plain": [
       "(23152, 72)"
      ]
     },
     "execution_count": 177,
     "metadata": {
      "tags": []
     },
     "output_type": "execute_result"
    }
   ],
   "source": [
    "X_test = test_data.iloc[:,1:]\n",
    "X_test.shape"
   ]
  },
  {
   "cell_type": "markdown",
   "metadata": {
    "id": "Vz9by4X9MoBn"
   },
   "source": [
    "## Imputation to fill missing values"
   ]
  },
  {
   "cell_type": "markdown",
   "metadata": {
    "id": "tGrKyp18VIek"
   },
   "source": [
    "This section is where we used a MICE imputer to impute the missing values in the dataset"
   ]
  },
  {
   "cell_type": "code",
   "execution_count": null,
   "metadata": {
    "colab": {
     "base_uri": "https://localhost:8080/"
    },
    "id": "qi3cmULKh9D1",
    "outputId": "69ef20c0-6ed2-4226-8ea3-e513867f824a"
   },
   "outputs": [
    {
     "data": {
      "text/plain": [
       "(46305, 72)"
      ]
     },
     "execution_count": 178,
     "metadata": {
      "tags": []
     },
     "output_type": "execute_result"
    }
   ],
   "source": [
    "merged_set = pd.concat([X_train, X_test], sort = False)\n",
    "merged_set.shape"
   ]
  },
  {
   "cell_type": "code",
   "execution_count": null,
   "metadata": {
    "id": "-WH_uqfai8VN"
   },
   "outputs": [],
   "source": [
    "# Imputing the missing values in the whole dataset\n",
    "merged_set_Imp = MICE().fit_transform(merged_set)"
   ]
  },
  {
   "cell_type": "code",
   "execution_count": null,
   "metadata": {
    "id": "6Ls-_QiRk_bd"
   },
   "outputs": [],
   "source": [
    "merged_set_Imp = pd.DataFrame(merged_set_Imp)\n",
    "merged_set_Imp.columns = X_test.columns.values # renaming columns"
   ]
  },
  {
   "cell_type": "code",
   "execution_count": null,
   "metadata": {
    "colab": {
     "base_uri": "https://localhost:8080/"
    },
    "id": "xSNhReNZMna3",
    "outputId": "72f5fa8b-e37f-4516-880b-f72a5adf4d20"
   },
   "outputs": [
    {
     "data": {
      "text/plain": [
       "(23153, 72)"
      ]
     },
     "execution_count": 181,
     "metadata": {
      "tags": []
     },
     "output_type": "execute_result"
    }
   ],
   "source": [
    "# Separating the train set\n",
    "X_train_Imp = merged_set_Imp.iloc[:len(X_train)]\n",
    "X_train.shape"
   ]
  },
  {
   "cell_type": "code",
   "execution_count": null,
   "metadata": {
    "colab": {
     "base_uri": "https://localhost:8080/"
    },
    "id": "uWxTTW5fMm1A",
    "outputId": "81465150-8f36-4b6b-ad07-5c312fdb7855"
   },
   "outputs": [
    {
     "data": {
      "text/plain": [
       "(23152, 72)"
      ]
     },
     "execution_count": 182,
     "metadata": {
      "tags": []
     },
     "output_type": "execute_result"
    }
   ],
   "source": [
    "# Separating the test set\n",
    "X_test_Imp = merged_set_Imp.iloc[len(X_train):]\n",
    "X_test_Imp.shape"
   ]
  },
  {
   "cell_type": "markdown",
   "metadata": {
    "id": "IjbTkE8n6H-T"
   },
   "source": [
    "## Models"
   ]
  },
  {
   "cell_type": "markdown",
   "metadata": {
    "id": "n5TZ6zasSw4g"
   },
   "source": [
    "This is where we define various machine learning models to get the relevant predictions. Since we know that the data distribution needs to be learned and at the very start we are not sure as to which model performs the best. In order to find that out, we tested the models mentioned below:\n",
    "\n",
    "1. Lasso\n",
    "2. Elastic Net\n",
    "3. Kernel Ridge Regression\n",
    "4. Gradient Boost (GB)\n",
    "5. XGBoost (XGB)\n",
    "6. Light Gradient Boost (LGB)"
   ]
  },
  {
   "cell_type": "code",
   "execution_count": null,
   "metadata": {
    "id": "pjR0wWuMOSTn"
   },
   "outputs": [],
   "source": [
    "model_lgb = lgb.LGBMRegressor(objective='regression',num_leaves=5,\n",
    "                              learning_rate=0.05, n_estimators=720,\n",
    "                              max_bin = 55, bagging_fraction = 0.8,\n",
    "                              bagging_freq = 5, feature_fraction = 0.2319,\n",
    "                              feature_fraction_seed=9, bagging_seed=9,\n",
    "                              min_data_in_leaf =6, min_sum_hessian_in_leaf = 11)\n",
    "\n",
    "lasso = make_pipeline(StandardScaler(), Lasso(alpha =0.0005, random_state=1))\n",
    "\n",
    "ENet = make_pipeline(StandardScaler(), ElasticNet(alpha=0.0005, l1_ratio=.9, random_state=3))\n",
    "\n",
    "KRR = KernelRidge(alpha=0.6, kernel=\"polynomial\", degree=2, coef0=2.5)\n",
    "\n",
    "GBoost = GradientBoostingRegressor(n_estimators=3000, learning_rate=0.05,\n",
    "                                   max_depth=4, max_features='sqrt',\n",
    "                                   min_samples_leaf=15, min_samples_split=10, \n",
    "                                   loss='huber', random_state =5)\n",
    "\n",
    "model_xgb = xgb.XGBRegressor(colsample_bytree=0.4603, gamma=0.0468, \n",
    "                             learning_rate=0.05, max_depth=3, \n",
    "                             min_child_weight=1.7817, n_estimators=2200,\n",
    "                             reg_alpha=0.4640, reg_lambda=0.8571,\n",
    "                             subsample=0.5213, silent=1,\n",
    "                             random_state =7, nthread = -1)"
   ]
  },
  {
   "cell_type": "markdown",
   "metadata": {
    "id": "v_rJxIOLTGwK"
   },
   "source": [
    "We tested all the models separately and found out that GBoost, XGBoost, Gradient Boost performs the best. But we still were not satisfied with their individual performance so we coded an ensemble learner which basically takes the average prediction of all the three models and it turns out that it performed much better than any singular model."
   ]
  },
  {
   "cell_type": "markdown",
   "metadata": {
    "id": "81YuY8nl7mgi"
   },
   "source": [
    "## Stacked Model"
   ]
  },
  {
   "cell_type": "markdown",
   "metadata": {
    "id": "SEprdsXNUDND"
   },
   "source": [
    "In this class, each model is separately trained and predictions are averaged of all base models. "
   ]
  },
  {
   "cell_type": "code",
   "execution_count": null,
   "metadata": {
    "id": "DU7gnREd7qiZ"
   },
   "outputs": [],
   "source": [
    "class Stackedmodels(BaseEstimator, RegressorMixin, TransformerMixin):\n",
    "    def __init__(self, models):\n",
    "        self.models = models\n",
    "        \n",
    "    # Original models used for fitting data\n",
    "    def fit(self, X_train, Y_train):\n",
    "        self.models_ = [clone(x) for x in self.models]\n",
    "        # Train specified models\n",
    "        for model in self.models_:\n",
    "            model.fit(X_train, Y_train)\n",
    "        return self\n",
    "    \n",
    "    # Predict on test data and take average of models\n",
    "    def predict(self, X):\n",
    "        predictions = np.column_stack([\n",
    "            model.predict(X) for model in self.models_\n",
    "        ])\n",
    "        return np.mean(predictions, axis=1)"
   ]
  },
  {
   "cell_type": "code",
   "execution_count": null,
   "metadata": {
    "id": "hNBlA_piIaRL"
   },
   "outputs": [],
   "source": [
    "# Validation function\n",
    "n_folds = 5\n",
    "# Spits the rmse of the model\n",
    "def rmsle_cv(model, x_train, y_train):\n",
    "    kf = KFold(n_folds, shuffle=True, random_state=42).get_n_splits(x_train)\n",
    "    rmse= np.sqrt(-cross_val_score(model, x_train, y_train, scoring=\"neg_mean_squared_error\", cv = kf))\n",
    "    return(rmse)"
   ]
  },
  {
   "cell_type": "markdown",
   "metadata": {
    "id": "9385YiLs9VBB"
   },
   "source": [
    "## Running the Model"
   ]
  },
  {
   "cell_type": "code",
   "execution_count": null,
   "metadata": {
    "colab": {
     "base_uri": "https://localhost:8080/"
    },
    "id": "LrrfjCoC9Uad",
    "outputId": "41a19edd-9ae0-43d4-bb19-b3741553e8ba"
   },
   "outputs": [
    {
     "data": {
      "text/plain": [
       "Stackedmodels(models=(LGBMRegressor(bagging_fraction=0.8, bagging_freq=5,\n",
       "                                    bagging_seed=9, boosting_type='gbdt',\n",
       "                                    class_weight=None, colsample_bytree=1.0,\n",
       "                                    feature_fraction=0.2319,\n",
       "                                    feature_fraction_seed=9,\n",
       "                                    importance_type='split', learning_rate=0.05,\n",
       "                                    max_bin=55, max_depth=-1,\n",
       "                                    min_child_samples=20,\n",
       "                                    min_child_weight=0.001, min_data_in_leaf=6,\n",
       "                                    min_split_gain=0.0,\n",
       "                                    min_su...\n",
       "                                   colsample_bylevel=1, colsample_bynode=1,\n",
       "                                   colsample_bytree=0.4603, gamma=0.0468,\n",
       "                                   importance_type='gain', learning_rate=0.05,\n",
       "                                   max_delta_step=0, max_depth=3,\n",
       "                                   min_child_weight=1.7817, missing=None,\n",
       "                                   n_estimators=2200, n_jobs=1, nthread=-1,\n",
       "                                   objective='reg:linear', random_state=7,\n",
       "                                   reg_alpha=0.464, reg_lambda=0.8571,\n",
       "                                   scale_pos_weight=1, seed=None, silent=1,\n",
       "                                   subsample=0.5213, verbosity=1)))"
      ]
     },
     "execution_count": 187,
     "metadata": {
      "tags": []
     },
     "output_type": "execute_result"
    }
   ],
   "source": [
    "# Model list\n",
    "model_list = [lasso, model_lgb, ENet, KRR, GBoost, model_xgb]\n",
    "model_name = [\"lasso\", \"model_lgb\", \"ENet\", \"KRR\", \"GBoost\", \"model_xgb\"]\n",
    "\n",
    "# Model fit\n",
    "averaged_models = Stackedmodels(models = (model_lgb, GBoost, model_xgb))\n",
    "averaged_models.fit(X_train_Imp, y_train)"
   ]
  },
  {
   "cell_type": "code",
   "execution_count": null,
   "metadata": {
    "colab": {
     "base_uri": "https://localhost:8080/"
    },
    "id": "caTGfV2fIeX-",
    "outputId": "a42f8a64-3555-4e06-c451-2587bf6c15b7"
   },
   "outputs": [
    {
     "data": {
      "text/plain": [
       "Index(['d_fuel_other', 'd_fuel_wood', 'd_fuel_coal', 'd_fuel_kerosene',\n",
       "       'd_fuel_gas', 'd_fuel_electric', 'd_fuel_none', 'd_water_other',\n",
       "       'd_water_river', 'd_water_well', 'd_water_truck', 'd_water_pylon',\n",
       "       'd_water_outside', 'd_water_inside', 'd_drain_none', 'd_drain_river',\n",
       "       'd_drain_cesspool', 'd_drain_septic', 'd_drain_outside',\n",
       "       'd_drain_inside', 'd_wall_other', 'd_wall_woodmat', 'd_wall_stonemud',\n",
       "       'd_wall_quincha', 'd_wall_tapia', 'd_wall_adobe', 'd_wall_stonecement',\n",
       "       'd_wall_brickcement', 'd_roof_other', 'd_roof_straw', 'd_roof_mat',\n",
       "       'd_roof_platecane', 'd_roof_tile', 'd_roof_wood', 'd_roof_concrete',\n",
       "       'd_floor_other', 'd_floor_earth', 'd_floor_cement', 'd_floor_wood',\n",
       "       'd_floor_tile', 'd_floor_sheets', 'd_floor_parquet', 'd_electricity',\n",
       "       'd_telephone', 'd_h_educ_none', 'd_h_educ_pre', 'd_h_educ_prim',\n",
       "       'd_h_educ_sec', 'd_h_educ_higher_nouni', 'd_h_educ_higher_uni',\n",
       "       'd_h_educ_post', 'd_max_educ_none', 'd_max_educ_prim', 'd_max_educ_sec',\n",
       "       'd_max_educ_higher_nouni', 'd_max_educ_higher_uni', 'd_insurance_0',\n",
       "       'd_insurance_1', 'd_insurance_2', 'd_insurance_3', 'd_insurance_4plus',\n",
       "       'd_crowd_lessthan1', 'd_crowd_1to2', 'd_crowd_2to4', 'd_crowd_4to6',\n",
       "       'd_crowd_6plus', 'd_lux_0', 'd_lux_1', 'd_lux_2', 'd_lux_3', 'd_lux_4',\n",
       "       'd_lux_5'],\n",
       "      dtype='object')"
      ]
     },
     "execution_count": 148,
     "metadata": {
      "tags": []
     },
     "output_type": "execute_result"
    }
   ],
   "source": [
    "X_test_Imp.columns"
   ]
  },
  {
   "cell_type": "code",
   "execution_count": null,
   "metadata": {
    "colab": {
     "base_uri": "https://localhost:8080/"
    },
    "id": "a2aKKo9Y9T8C",
    "outputId": "398a9b9c-b555-4959-e3c2-d47c02491db5"
   },
   "outputs": [
    {
     "data": {
      "text/plain": [
       "23152"
      ]
     },
     "execution_count": 188,
     "metadata": {
      "tags": []
     },
     "output_type": "execute_result"
    }
   ],
   "source": [
    "# Getting the predictions \n",
    "y_pred = averaged_models.predict(X_test_Imp)\n",
    "len(y_pred)"
   ]
  },
  {
   "cell_type": "code",
   "execution_count": null,
   "metadata": {
    "colab": {
     "base_uri": "https://localhost:8080/"
    },
    "id": "VHejHz81pVDE",
    "outputId": "b6c9a7ee-afb2-446f-b439-8fb638e9e6c2"
   },
   "outputs": [
    {
     "data": {
      "text/plain": [
       "0.7011171547590656"
      ]
     },
     "execution_count": 189,
     "metadata": {
      "tags": []
     },
     "output_type": "execute_result"
    }
   ],
   "source": [
    "# Getting the R square of the model\n",
    "averaged_models.score(X_train_Imp, y_train)"
   ]
  },
  {
   "cell_type": "code",
   "execution_count": null,
   "metadata": {
    "colab": {
     "base_uri": "https://localhost:8080/",
     "height": 419
    },
    "id": "ROXLwAFJfAaV",
    "outputId": "4681e9fa-6682-4f42-e9e6-738b6a18060a"
   },
   "outputs": [
    {
     "data": {
      "text/html": [
       "<div>\n",
       "<style scoped>\n",
       "    .dataframe tbody tr th:only-of-type {\n",
       "        vertical-align: middle;\n",
       "    }\n",
       "\n",
       "    .dataframe tbody tr th {\n",
       "        vertical-align: top;\n",
       "    }\n",
       "\n",
       "    .dataframe thead th {\n",
       "        text-align: right;\n",
       "    }\n",
       "</style>\n",
       "<table border=\"1\" class=\"dataframe\">\n",
       "  <thead>\n",
       "    <tr style=\"text-align: right;\">\n",
       "      <th></th>\n",
       "      <th>lncaphat_OLS</th>\n",
       "      <th>y_pred</th>\n",
       "    </tr>\n",
       "  </thead>\n",
       "  <tbody>\n",
       "    <tr>\n",
       "      <th>0</th>\n",
       "      <td>5.246</td>\n",
       "      <td>5.228</td>\n",
       "    </tr>\n",
       "    <tr>\n",
       "      <th>1</th>\n",
       "      <td>6.129</td>\n",
       "      <td>6.065</td>\n",
       "    </tr>\n",
       "    <tr>\n",
       "      <th>2</th>\n",
       "      <td>6.666</td>\n",
       "      <td>6.652</td>\n",
       "    </tr>\n",
       "    <tr>\n",
       "      <th>3</th>\n",
       "      <td>6.088</td>\n",
       "      <td>6.025</td>\n",
       "    </tr>\n",
       "    <tr>\n",
       "      <th>4</th>\n",
       "      <td>5.008</td>\n",
       "      <td>4.945</td>\n",
       "    </tr>\n",
       "    <tr>\n",
       "      <th>...</th>\n",
       "      <td>...</td>\n",
       "      <td>...</td>\n",
       "    </tr>\n",
       "    <tr>\n",
       "      <th>23147</th>\n",
       "      <td>5.060</td>\n",
       "      <td>5.020</td>\n",
       "    </tr>\n",
       "    <tr>\n",
       "      <th>23148</th>\n",
       "      <td>5.082</td>\n",
       "      <td>5.030</td>\n",
       "    </tr>\n",
       "    <tr>\n",
       "      <th>23149</th>\n",
       "      <td>5.212</td>\n",
       "      <td>4.970</td>\n",
       "    </tr>\n",
       "    <tr>\n",
       "      <th>23150</th>\n",
       "      <td>6.946</td>\n",
       "      <td>7.001</td>\n",
       "    </tr>\n",
       "    <tr>\n",
       "      <th>23151</th>\n",
       "      <td>5.949</td>\n",
       "      <td>5.961</td>\n",
       "    </tr>\n",
       "  </tbody>\n",
       "</table>\n",
       "<p>22704 rows × 2 columns</p>\n",
       "</div>"
      ],
      "text/plain": [
       "       lncaphat_OLS  y_pred\n",
       "0             5.246   5.228\n",
       "1             6.129   6.065\n",
       "2             6.666   6.652\n",
       "3             6.088   6.025\n",
       "4             5.008   4.945\n",
       "...             ...     ...\n",
       "23147         5.060   5.020\n",
       "23148         5.082   5.030\n",
       "23149         5.212   4.970\n",
       "23150         6.946   7.001\n",
       "23151         5.949   5.961\n",
       "\n",
       "[22704 rows x 2 columns]"
      ]
     },
     "execution_count": 190,
     "metadata": {
      "tags": []
     },
     "output_type": "execute_result"
    }
   ],
   "source": [
    "# Making a dataframe\n",
    "bingo_df = pd.concat([comparative_metric, pd.Series(y_pred).rename('y_pred')], axis=1, sort = False)\n",
    "bingo_df = bingo_df[bingo_df['lncaphat_OLS'].notna()] # removing rows which don't report any values\n",
    "bingo_df"
   ]
  },
  {
   "cell_type": "code",
   "execution_count": null,
   "metadata": {
    "colab": {
     "base_uri": "https://localhost:8080/"
    },
    "id": "BA2WsO6cc_At",
    "outputId": "f1b5004d-a7ae-429d-d949-5a1ab9a918c9"
   },
   "outputs": [
    {
     "name": "stdout",
     "output_type": "stream",
     "text": [
      "0.10308290004334325\n"
     ]
    }
   ],
   "source": [
    "rmse = np.sqrt(mean_squared_error(bingo_df['lncaphat_OLS'], bingo_df['y_pred']))\n",
    "print(rmse)"
   ]
  },
  {
   "cell_type": "markdown",
   "metadata": {
    "id": "Z-5cydZ3zzrl"
   },
   "source": [
    "## Figure 5 - Calculate CRRA-utility function\n",
    "The CRRA-utility function uses given values such as the national number of households, program budget, and UBI cost-savings bonus from the R. Hanna paper to calculate the utility values with our generated predictions. \n",
    "\n",
    "We calculated the CRRA-utility values by using the following formula:\n",
    "\n",
    "$$\n",
    "U = \\frac {\\sum(y_i + b_i)^{1-p}}{1-p}\n",
    "$$\n",
    "\n",
    "In order to calculate the inclusion error we iterate over all generated quantiles and defining which samples are included in the cut-off and not actually poor.\n",
    "\n",
    "For the last quantile / cut-off a bonus (2.235/12) for the UBI is added. This is done in order to simulate the cost-savings from administrative targeting at the UBI."
   ]
  },
  {
   "cell_type": "code",
   "execution_count": null,
   "metadata": {
    "id": "YUD7ETFS4PsO"
   },
   "outputs": [],
   "source": [
    "def crra_utility(df):\n",
    "  data = df\n",
    "  national_num_households = 6750000\n",
    "  program_budget_monthly =  880000000/12\n",
    "  bonus_perhh = 2.235/12 # bonus in event of UBI\n",
    "  CRRA_TBFMS = np.zeros((101,1))\n",
    "  INC_ERR_TBFMS = np.zeros((101,1))\n",
    "  samplesize = sum(data['y'])\n",
    "\n",
    "  # Loop over inclusion errors in the training sample\n",
    "  c = []\n",
    "  for i in range(101):\n",
    "    c.append(np.quantile(data['y'],i/100))\n",
    "\n",
    "  incl_error_normal = []\n",
    "  for i, i_value in enumerate(c):\n",
    "    data['incl_c'] = (df['y'] <= i_value).astype(int)\n",
    "    incl_error_normal = []\n",
    "\n",
    "    for x,x_val in  enumerate(data['incl_c']):\n",
    "      if x_val==1 and data['poor'][x]==0: # inclusion error = poor but receiving money! [Switched from 1 to 0]\n",
    "        incl_error_normal.append(1)\n",
    "      else:\n",
    "        incl_error_normal.append(0) \n",
    "\n",
    "    \n",
    "    data['incl_error_normal'] = incl_error_normal\n",
    "    households_incl = sum(data['incl_c'])\n",
    "    pct_households_incl = households_incl / samplesize\n",
    "    national_hh_incl = national_num_households * pct_households_incl\n",
    "    \n",
    "    per_hh_benefits = program_budget_monthly / national_hh_incl\n",
    "    benefits_received = data['incl_c'] * per_hh_benefits\n",
    "    if i==100:\n",
    "      benefits_received += bonus_perhh\n",
    "    percapita_benefits_received = benefits_received / data['h_hhsize']\n",
    "    income_TBFMS = np.exp(data['y']) + percapita_benefits_received\n",
    "    CRRA_TBFMS[i] = sum(pow( income_TBFMS ,-2))/-2\n",
    "    \n",
    "    tp = data['incl_error_normal'].sum()\n",
    "    fp = sum(1-data['poor'])\n",
    "\n",
    "    INC_ERR_TBFMS[i] = tp/fp\n",
    "\n",
    "  return CRRA_TBFMS, INC_ERR_TBFMS\n",
    "\n"
   ]
  },
  {
   "cell_type": "code",
   "execution_count": null,
   "metadata": {
    "colab": {
     "base_uri": "https://localhost:8080/"
    },
    "id": "h993KfR-RfYD",
    "outputId": "e9545134-fa30-495b-cfc1-3d7a92da61a1"
   },
   "outputs": [
    {
     "name": "stdout",
     "output_type": "stream",
     "text": [
      "(23152, 81)\n"
     ]
    }
   ],
   "source": [
    "input = df[df['training']==0]\n",
    "print(input.shape)\n",
    "\n",
    "input['y'] = y_pred \n",
    "CRRA_TBFMS, INC_ERR_TBFMS = crra_utility(input )"
   ]
  },
  {
   "cell_type": "code",
   "execution_count": null,
   "metadata": {
    "colab": {
     "base_uri": "https://localhost:8080/"
    },
    "id": "PS7NoQJSQSYk",
    "outputId": "af3bad73-491f-47fc-933c-529a5c930874"
   },
   "outputs": [
    {
     "name": "stdout",
     "output_type": "stream",
     "text": [
      "Highest CRRA utility value at incl. error: [[0.09877654]]\n"
     ]
    }
   ],
   "source": [
    "print('Highest CRRA utility value at incl. error:',INC_ERR_TBFMS[pd.DataFrame(CRRA_TBFMS).idxmax()])"
   ]
  },
  {
   "cell_type": "markdown",
   "metadata": {
    "id": "u4qsONM_P3RE"
   },
   "source": [
    "## Figure 5\n",
    "Since our prediction accuracy is higher than the one used in the R. Hanna paper we get lower utility function values. Thus, a better utility value.\n",
    "\n",
    "Our predictions show that the highest utility is achieved at an inclusion error of approximately 0.1."
   ]
  },
  {
   "cell_type": "code",
   "execution_count": null,
   "metadata": {
    "colab": {
     "base_uri": "https://localhost:8080/",
     "height": 349
    },
    "id": "5T34jDds0CMU",
    "outputId": "c6a989a1-88e4-4557-c428-437c51060c5d"
   },
   "outputs": [
    {
     "data": {
      "image/png": "[encoded data removed]",
      "text/plain": [
       "<Figure size 720x360 with 1 Axes>"
      ]
     },
     "metadata": {
      "needs_background": "light",
      "tags": []
     },
     "output_type": "display_data"
    }
   ],
   "source": [
    "plt.plot(INC_ERR_TBFMS,CRRA_TBFMS)\n",
    "plt.xlabel('Inclusion error')\n",
    "plt.ylabel('CRRA Utility - Peru')\n",
    "plt.title('Figure 5 - Social Welfare versus Inclusion Error')\n",
    "plt.show()"
   ]
  },
  {
   "cell_type": "code",
   "execution_count": null,
   "metadata": {
    "colab": {
     "base_uri": "https://localhost:8080/",
     "height": 253
    },
    "id": "7O018heqEVRe",
    "outputId": "5944f002-229f-43f7-ab62-753589f8af40"
   },
   "outputs": [
    {
     "data": {
      "text/html": [
       "<div>\n",
       "<style scoped>\n",
       "    .dataframe tbody tr th:only-of-type {\n",
       "        vertical-align: middle;\n",
       "    }\n",
       "\n",
       "    .dataframe tbody tr th {\n",
       "        vertical-align: top;\n",
       "    }\n",
       "\n",
       "    .dataframe thead th {\n",
       "        text-align: right;\n",
       "    }\n",
       "</style>\n",
       "<table border=\"1\" class=\"dataframe\">\n",
       "  <thead>\n",
       "    <tr style=\"text-align: right;\">\n",
       "      <th></th>\n",
       "      <th>lnpercapitaconsumption</th>\n",
       "      <th>d_fuel_other</th>\n",
       "      <th>d_fuel_wood</th>\n",
       "      <th>d_fuel_coal</th>\n",
       "      <th>d_fuel_kerosene</th>\n",
       "      <th>d_fuel_gas</th>\n",
       "      <th>d_fuel_electric</th>\n",
       "      <th>d_fuel_none</th>\n",
       "      <th>d_water_other</th>\n",
       "      <th>d_water_river</th>\n",
       "      <th>d_water_well</th>\n",
       "      <th>d_water_truck</th>\n",
       "      <th>d_water_pylon</th>\n",
       "      <th>d_water_outside</th>\n",
       "      <th>d_water_inside</th>\n",
       "      <th>d_drain_none</th>\n",
       "      <th>d_drain_river</th>\n",
       "      <th>d_drain_cesspool</th>\n",
       "      <th>d_drain_septic</th>\n",
       "      <th>d_drain_outside</th>\n",
       "      <th>d_drain_inside</th>\n",
       "      <th>d_wall_other</th>\n",
       "      <th>d_wall_woodmat</th>\n",
       "      <th>d_wall_stonemud</th>\n",
       "      <th>d_wall_quincha</th>\n",
       "      <th>d_wall_tapia</th>\n",
       "      <th>d_wall_adobe</th>\n",
       "      <th>d_wall_stonecement</th>\n",
       "      <th>d_wall_brickcement</th>\n",
       "      <th>d_roof_other</th>\n",
       "      <th>d_roof_straw</th>\n",
       "      <th>d_roof_mat</th>\n",
       "      <th>d_roof_platecane</th>\n",
       "      <th>d_roof_tile</th>\n",
       "      <th>d_roof_wood</th>\n",
       "      <th>d_roof_concrete</th>\n",
       "      <th>d_floor_other</th>\n",
       "      <th>d_floor_earth</th>\n",
       "      <th>d_floor_cement</th>\n",
       "      <th>d_floor_wood</th>\n",
       "      <th>...</th>\n",
       "      <th>d_h_educ_none</th>\n",
       "      <th>d_h_educ_pre</th>\n",
       "      <th>d_h_educ_prim</th>\n",
       "      <th>d_h_educ_sec</th>\n",
       "      <th>d_h_educ_higher_nouni</th>\n",
       "      <th>d_h_educ_higher_uni</th>\n",
       "      <th>d_h_educ_post</th>\n",
       "      <th>d_max_educ_none</th>\n",
       "      <th>d_max_educ_prim</th>\n",
       "      <th>d_max_educ_sec</th>\n",
       "      <th>d_max_educ_higher_nouni</th>\n",
       "      <th>d_max_educ_higher_uni</th>\n",
       "      <th>d_insurance_0</th>\n",
       "      <th>d_insurance_1</th>\n",
       "      <th>d_insurance_2</th>\n",
       "      <th>d_insurance_3</th>\n",
       "      <th>d_insurance_4plus</th>\n",
       "      <th>d_crowd_lessthan1</th>\n",
       "      <th>d_crowd_1to2</th>\n",
       "      <th>d_crowd_2to4</th>\n",
       "      <th>d_crowd_4to6</th>\n",
       "      <th>d_crowd_6plus</th>\n",
       "      <th>d_lux_0</th>\n",
       "      <th>d_lux_1</th>\n",
       "      <th>d_lux_2</th>\n",
       "      <th>d_lux_3</th>\n",
       "      <th>d_lux_4</th>\n",
       "      <th>d_lux_5</th>\n",
       "      <th>training</th>\n",
       "      <th>percapitaconsumption</th>\n",
       "      <th>poor</th>\n",
       "      <th>h_hhsize</th>\n",
       "      <th>id_for_matlab</th>\n",
       "      <th>hhid</th>\n",
       "      <th>lncaphat_OLS</th>\n",
       "      <th>percapitahat_OLS</th>\n",
       "      <th>y</th>\n",
       "      <th>incl_c</th>\n",
       "      <th>incl_error_normal</th>\n",
       "      <th>expY</th>\n",
       "    </tr>\n",
       "  </thead>\n",
       "  <tbody>\n",
       "    <tr>\n",
       "      <th>0</th>\n",
       "      <td>5.352</td>\n",
       "      <td>0</td>\n",
       "      <td>1</td>\n",
       "      <td>0</td>\n",
       "      <td>0</td>\n",
       "      <td>0</td>\n",
       "      <td>0</td>\n",
       "      <td>0</td>\n",
       "      <td>0</td>\n",
       "      <td>1</td>\n",
       "      <td>0</td>\n",
       "      <td>0</td>\n",
       "      <td>0</td>\n",
       "      <td>0</td>\n",
       "      <td>0</td>\n",
       "      <td>1</td>\n",
       "      <td>0</td>\n",
       "      <td>0</td>\n",
       "      <td>0</td>\n",
       "      <td>0</td>\n",
       "      <td>0</td>\n",
       "      <td>1.000</td>\n",
       "      <td>0.000</td>\n",
       "      <td>0.000</td>\n",
       "      <td>0.000</td>\n",
       "      <td>0.000</td>\n",
       "      <td>0.000</td>\n",
       "      <td>0.000</td>\n",
       "      <td>0.000</td>\n",
       "      <td>0.000</td>\n",
       "      <td>1.000</td>\n",
       "      <td>0.000</td>\n",
       "      <td>0.000</td>\n",
       "      <td>0.000</td>\n",
       "      <td>0.000</td>\n",
       "      <td>0.000</td>\n",
       "      <td>1.000</td>\n",
       "      <td>0.000</td>\n",
       "      <td>0.000</td>\n",
       "      <td>0.000</td>\n",
       "      <td>...</td>\n",
       "      <td>1.000</td>\n",
       "      <td>0.000</td>\n",
       "      <td>0.000</td>\n",
       "      <td>0.000</td>\n",
       "      <td>0.000</td>\n",
       "      <td>0.000</td>\n",
       "      <td>0.000</td>\n",
       "      <td>1</td>\n",
       "      <td>0</td>\n",
       "      <td>0</td>\n",
       "      <td>0</td>\n",
       "      <td>0</td>\n",
       "      <td>1</td>\n",
       "      <td>0</td>\n",
       "      <td>0</td>\n",
       "      <td>0</td>\n",
       "      <td>0</td>\n",
       "      <td>1.000</td>\n",
       "      <td>0.000</td>\n",
       "      <td>0.000</td>\n",
       "      <td>0.000</td>\n",
       "      <td>0.000</td>\n",
       "      <td>1</td>\n",
       "      <td>0</td>\n",
       "      <td>0</td>\n",
       "      <td>0</td>\n",
       "      <td>0</td>\n",
       "      <td>0</td>\n",
       "      <td>0</td>\n",
       "      <td>211.000</td>\n",
       "      <td>0</td>\n",
       "      <td>1</td>\n",
       "      <td>1</td>\n",
       "      <td>233710511</td>\n",
       "      <td>5.246</td>\n",
       "      <td>284.424</td>\n",
       "      <td>5.228</td>\n",
       "      <td>1</td>\n",
       "      <td>1</td>\n",
       "      <td>186.443</td>\n",
       "    </tr>\n",
       "    <tr>\n",
       "      <th>1</th>\n",
       "      <td>5.769</td>\n",
       "      <td>0</td>\n",
       "      <td>0</td>\n",
       "      <td>0</td>\n",
       "      <td>0</td>\n",
       "      <td>1</td>\n",
       "      <td>0</td>\n",
       "      <td>0</td>\n",
       "      <td>0</td>\n",
       "      <td>0</td>\n",
       "      <td>0</td>\n",
       "      <td>0</td>\n",
       "      <td>0</td>\n",
       "      <td>0</td>\n",
       "      <td>1</td>\n",
       "      <td>0</td>\n",
       "      <td>0</td>\n",
       "      <td>1</td>\n",
       "      <td>0</td>\n",
       "      <td>0</td>\n",
       "      <td>0</td>\n",
       "      <td>0.000</td>\n",
       "      <td>0.000</td>\n",
       "      <td>0.000</td>\n",
       "      <td>1.000</td>\n",
       "      <td>0.000</td>\n",
       "      <td>0.000</td>\n",
       "      <td>0.000</td>\n",
       "      <td>0.000</td>\n",
       "      <td>0.000</td>\n",
       "      <td>0.000</td>\n",
       "      <td>0.000</td>\n",
       "      <td>1.000</td>\n",
       "      <td>0.000</td>\n",
       "      <td>0.000</td>\n",
       "      <td>0.000</td>\n",
       "      <td>0.000</td>\n",
       "      <td>1.000</td>\n",
       "      <td>0.000</td>\n",
       "      <td>0.000</td>\n",
       "      <td>...</td>\n",
       "      <td>0.000</td>\n",
       "      <td>0.000</td>\n",
       "      <td>0.000</td>\n",
       "      <td>1.000</td>\n",
       "      <td>0.000</td>\n",
       "      <td>0.000</td>\n",
       "      <td>0.000</td>\n",
       "      <td>0</td>\n",
       "      <td>0</td>\n",
       "      <td>1</td>\n",
       "      <td>0</td>\n",
       "      <td>0</td>\n",
       "      <td>0</td>\n",
       "      <td>0</td>\n",
       "      <td>0</td>\n",
       "      <td>1</td>\n",
       "      <td>0</td>\n",
       "      <td>0.000</td>\n",
       "      <td>1.000</td>\n",
       "      <td>0.000</td>\n",
       "      <td>0.000</td>\n",
       "      <td>0.000</td>\n",
       "      <td>0</td>\n",
       "      <td>0</td>\n",
       "      <td>0</td>\n",
       "      <td>1</td>\n",
       "      <td>0</td>\n",
       "      <td>0</td>\n",
       "      <td>0</td>\n",
       "      <td>320.139</td>\n",
       "      <td>0</td>\n",
       "      <td>3</td>\n",
       "      <td>2</td>\n",
       "      <td>295508011</td>\n",
       "      <td>6.129</td>\n",
       "      <td>522.884</td>\n",
       "      <td>6.065</td>\n",
       "      <td>1</td>\n",
       "      <td>1</td>\n",
       "      <td>430.559</td>\n",
       "    </tr>\n",
       "    <tr>\n",
       "      <th>2</th>\n",
       "      <td>5.968</td>\n",
       "      <td>0</td>\n",
       "      <td>0</td>\n",
       "      <td>0</td>\n",
       "      <td>0</td>\n",
       "      <td>1</td>\n",
       "      <td>0</td>\n",
       "      <td>0</td>\n",
       "      <td>0</td>\n",
       "      <td>0</td>\n",
       "      <td>0</td>\n",
       "      <td>0</td>\n",
       "      <td>0</td>\n",
       "      <td>0</td>\n",
       "      <td>1</td>\n",
       "      <td>0</td>\n",
       "      <td>0</td>\n",
       "      <td>0</td>\n",
       "      <td>0</td>\n",
       "      <td>0</td>\n",
       "      <td>1</td>\n",
       "      <td>0.000</td>\n",
       "      <td>0.000</td>\n",
       "      <td>0.000</td>\n",
       "      <td>0.000</td>\n",
       "      <td>0.000</td>\n",
       "      <td>0.000</td>\n",
       "      <td>0.000</td>\n",
       "      <td>1.000</td>\n",
       "      <td>0.000</td>\n",
       "      <td>0.000</td>\n",
       "      <td>0.000</td>\n",
       "      <td>1.000</td>\n",
       "      <td>0.000</td>\n",
       "      <td>0.000</td>\n",
       "      <td>0.000</td>\n",
       "      <td>0.000</td>\n",
       "      <td>0.000</td>\n",
       "      <td>1.000</td>\n",
       "      <td>0.000</td>\n",
       "      <td>...</td>\n",
       "      <td>0.000</td>\n",
       "      <td>0.000</td>\n",
       "      <td>0.000</td>\n",
       "      <td>0.000</td>\n",
       "      <td>0.000</td>\n",
       "      <td>1.000</td>\n",
       "      <td>0.000</td>\n",
       "      <td>0</td>\n",
       "      <td>0</td>\n",
       "      <td>0</td>\n",
       "      <td>0</td>\n",
       "      <td>1</td>\n",
       "      <td>0</td>\n",
       "      <td>0</td>\n",
       "      <td>0</td>\n",
       "      <td>0</td>\n",
       "      <td>1</td>\n",
       "      <td>1.000</td>\n",
       "      <td>0.000</td>\n",
       "      <td>0.000</td>\n",
       "      <td>0.000</td>\n",
       "      <td>0.000</td>\n",
       "      <td>0</td>\n",
       "      <td>0</td>\n",
       "      <td>0</td>\n",
       "      <td>1</td>\n",
       "      <td>0</td>\n",
       "      <td>0</td>\n",
       "      <td>0</td>\n",
       "      <td>390.832</td>\n",
       "      <td>0</td>\n",
       "      <td>4</td>\n",
       "      <td>3</td>\n",
       "      <td>257600211</td>\n",
       "      <td>6.666</td>\n",
       "      <td>878.496</td>\n",
       "      <td>6.652</td>\n",
       "      <td>1</td>\n",
       "      <td>1</td>\n",
       "      <td>774.449</td>\n",
       "    </tr>\n",
       "    <tr>\n",
       "      <th>3</th>\n",
       "      <td>5.655</td>\n",
       "      <td>0</td>\n",
       "      <td>0</td>\n",
       "      <td>0</td>\n",
       "      <td>0</td>\n",
       "      <td>1</td>\n",
       "      <td>0</td>\n",
       "      <td>0</td>\n",
       "      <td>0</td>\n",
       "      <td>0</td>\n",
       "      <td>0</td>\n",
       "      <td>0</td>\n",
       "      <td>0</td>\n",
       "      <td>0</td>\n",
       "      <td>1</td>\n",
       "      <td>0</td>\n",
       "      <td>0</td>\n",
       "      <td>0</td>\n",
       "      <td>0</td>\n",
       "      <td>0</td>\n",
       "      <td>1</td>\n",
       "      <td>0.000</td>\n",
       "      <td>0.000</td>\n",
       "      <td>0.000</td>\n",
       "      <td>0.000</td>\n",
       "      <td>0.000</td>\n",
       "      <td>0.000</td>\n",
       "      <td>0.000</td>\n",
       "      <td>1.000</td>\n",
       "      <td>0.000</td>\n",
       "      <td>0.000</td>\n",
       "      <td>0.000</td>\n",
       "      <td>0.000</td>\n",
       "      <td>0.000</td>\n",
       "      <td>0.000</td>\n",
       "      <td>1.000</td>\n",
       "      <td>0.000</td>\n",
       "      <td>0.000</td>\n",
       "      <td>0.000</td>\n",
       "      <td>0.000</td>\n",
       "      <td>...</td>\n",
       "      <td>0.000</td>\n",
       "      <td>0.000</td>\n",
       "      <td>0.000</td>\n",
       "      <td>1.000</td>\n",
       "      <td>0.000</td>\n",
       "      <td>0.000</td>\n",
       "      <td>0.000</td>\n",
       "      <td>0</td>\n",
       "      <td>0</td>\n",
       "      <td>1</td>\n",
       "      <td>0</td>\n",
       "      <td>0</td>\n",
       "      <td>1</td>\n",
       "      <td>0</td>\n",
       "      <td>0</td>\n",
       "      <td>0</td>\n",
       "      <td>0</td>\n",
       "      <td>0.000</td>\n",
       "      <td>0.000</td>\n",
       "      <td>1.000</td>\n",
       "      <td>0.000</td>\n",
       "      <td>0.000</td>\n",
       "      <td>1</td>\n",
       "      <td>0</td>\n",
       "      <td>0</td>\n",
       "      <td>0</td>\n",
       "      <td>0</td>\n",
       "      <td>0</td>\n",
       "      <td>0</td>\n",
       "      <td>285.602</td>\n",
       "      <td>1</td>\n",
       "      <td>9</td>\n",
       "      <td>4</td>\n",
       "      <td>198104311</td>\n",
       "      <td>6.088</td>\n",
       "      <td>567.471</td>\n",
       "      <td>6.025</td>\n",
       "      <td>1</td>\n",
       "      <td>0</td>\n",
       "      <td>413.765</td>\n",
       "    </tr>\n",
       "    <tr>\n",
       "      <th>4</th>\n",
       "      <td>4.771</td>\n",
       "      <td>0</td>\n",
       "      <td>1</td>\n",
       "      <td>0</td>\n",
       "      <td>0</td>\n",
       "      <td>0</td>\n",
       "      <td>0</td>\n",
       "      <td>0</td>\n",
       "      <td>0</td>\n",
       "      <td>1</td>\n",
       "      <td>0</td>\n",
       "      <td>0</td>\n",
       "      <td>0</td>\n",
       "      <td>0</td>\n",
       "      <td>0</td>\n",
       "      <td>0</td>\n",
       "      <td>0</td>\n",
       "      <td>1</td>\n",
       "      <td>0</td>\n",
       "      <td>0</td>\n",
       "      <td>0</td>\n",
       "      <td>0.000</td>\n",
       "      <td>0.000</td>\n",
       "      <td>0.000</td>\n",
       "      <td>0.000</td>\n",
       "      <td>0.000</td>\n",
       "      <td>1.000</td>\n",
       "      <td>0.000</td>\n",
       "      <td>0.000</td>\n",
       "      <td>0.000</td>\n",
       "      <td>0.000</td>\n",
       "      <td>0.000</td>\n",
       "      <td>0.000</td>\n",
       "      <td>1.000</td>\n",
       "      <td>0.000</td>\n",
       "      <td>0.000</td>\n",
       "      <td>0.000</td>\n",
       "      <td>1.000</td>\n",
       "      <td>0.000</td>\n",
       "      <td>0.000</td>\n",
       "      <td>...</td>\n",
       "      <td>0.000</td>\n",
       "      <td>0.000</td>\n",
       "      <td>1.000</td>\n",
       "      <td>0.000</td>\n",
       "      <td>0.000</td>\n",
       "      <td>0.000</td>\n",
       "      <td>0.000</td>\n",
       "      <td>0</td>\n",
       "      <td>0</td>\n",
       "      <td>1</td>\n",
       "      <td>0</td>\n",
       "      <td>0</td>\n",
       "      <td>0</td>\n",
       "      <td>0</td>\n",
       "      <td>0</td>\n",
       "      <td>0</td>\n",
       "      <td>1</td>\n",
       "      <td>0.000</td>\n",
       "      <td>1.000</td>\n",
       "      <td>0.000</td>\n",
       "      <td>0.000</td>\n",
       "      <td>0.000</td>\n",
       "      <td>1</td>\n",
       "      <td>0</td>\n",
       "      <td>0</td>\n",
       "      <td>0</td>\n",
       "      <td>0</td>\n",
       "      <td>0</td>\n",
       "      <td>0</td>\n",
       "      <td>118.071</td>\n",
       "      <td>1</td>\n",
       "      <td>8</td>\n",
       "      <td>5</td>\n",
       "      <td>24805311</td>\n",
       "      <td>5.008</td>\n",
       "      <td>115.493</td>\n",
       "      <td>4.945</td>\n",
       "      <td>1</td>\n",
       "      <td>0</td>\n",
       "      <td>140.539</td>\n",
       "    </tr>\n",
       "  </tbody>\n",
       "</table>\n",
       "<p>5 rows × 85 columns</p>\n",
       "</div>"
      ],
      "text/plain": [
       "   lnpercapitaconsumption  d_fuel_other  ...  incl_error_normal    expY\n",
       "0                   5.352             0  ...                  1 186.443\n",
       "1                   5.769             0  ...                  1 430.559\n",
       "2                   5.968             0  ...                  1 774.449\n",
       "3                   5.655             0  ...                  0 413.765\n",
       "4                   4.771             0  ...                  0 140.539\n",
       "\n",
       "[5 rows x 85 columns]"
      ]
     },
     "execution_count": 196,
     "metadata": {
      "tags": []
     },
     "output_type": "execute_result"
    }
   ],
   "source": [
    "input['expY']=np.exp(input['y'])\n",
    "\n",
    "input.head()"
   ]
  },
  {
   "cell_type": "code",
   "execution_count": null,
   "metadata": {
    "id": "tG7nBscTAIhO"
   },
   "outputs": [],
   "source": [
    "# export results\n",
    "\n",
    "#“id_for_matlab”, “hhid”, “training”, “lnpercapitaconsumption “, “groupprediction”\n",
    "\n",
    "input.to_csv('group_predictions.csv', columns=['id_for_matlab','hhid','training','lnpercapitaconsumption','y','expY'])\n",
    "!cp group_predictions.csv \"drive/My Drive/\"\n",
    "\n"
   ]
  },
  {
   "cell_type": "markdown",
   "metadata": {
    "id": "4DbVqy4Qsuc2"
   },
   "source": [
    "## Conclusion\n",
    "As previously mentioned, we tested six seperate models and used the three best performing models: GBoost, XGBoost, Gradient Boost. However, the results could still be improved by using an ensemble learner, which took the average prediction of all three models. This approach achieved the best results. \n",
    "\n",
    "With the results from our ensemble learner and the CRRA-utility function we were able to replicate Figure 5 from the R. Hanna and B. A. Olken paper."
   ]
  }
 ],
 "metadata": {
  "colab": {
   "collapsed_sections": [],
   "name": "peru.ipynb",
   "provenance": [],
   "toc_visible": true
  },
  "kernelspec": {
   "display_name": "Python 3",
   "language": "python",
   "name": "python3"
  },
  "language_info": {
   "codemirror_mode": {
    "name": "ipython",
    "version": 3
   },
   "file_extension": ".py",
   "mimetype": "text/x-python",
   "name": "python",
   "nbconvert_exporter": "python",
   "pygments_lexer": "ipython3",
   "version": "3.7.1rc2"
  }
 },
 "nbformat": 4,
 "nbformat_minor": 1
}
